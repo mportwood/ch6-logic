{
 "cells": [
  {
   "cell_type": "markdown",
   "metadata": {},
   "source": [
    "# Exercise 1\n",
    "Add the specified code for each code cell, running the cells _in order_."
   ]
  },
  {
   "cell_type": "markdown",
   "metadata": {},
   "source": [
    "Create a variable `num` that contains a random number between 1 and 20 (use the [random.randint()](https://docs.python.org/3/library/random.html#random.randint) function). Print the number."
   ]
  },
  {
   "cell_type": "code",
   "execution_count": null,
   "metadata": {},
   "outputs": [],
   "source": [
    "num = 4\n",
    "print(num)"
   ]
  },
  {
   "cell_type": "markdown",
   "metadata": {},
   "source": [
    "Write a boolean expression that represents whether or not `num` is equal to 12."
   ]
  },
  {
   "cell_type": "code",
   "execution_count": null,
   "metadata": {},
   "outputs": [],
   "source": [
    "num == 12"
   ]
  },
  {
   "cell_type": "markdown",
   "metadata": {},
   "source": [
    "Write a boolean expression that represents whether `num` is either less than 5 or greater than 15. (Note that in programming, we always assume \"strictly greater/less than\" unless otherwis specified)."
   ]
  },
  {
   "cell_type": "code",
   "execution_count": null,
   "metadata": {},
   "outputs": [],
   "source": [
    "num < 5 or num > 15"
   ]
  },
  {
   "cell_type": "markdown",
   "metadata": {},
   "source": [
    "Write a boolean expression that represents whether `num` is between 3 and 18 (inclusive), but is _not_ equal to 11. (You can temporarily assign a non-random value to `num` to test this)."
   ]
  },
  {
   "cell_type": "code",
   "execution_count": null,
   "metadata": {},
   "outputs": [],
   "source": [
    "num >=3 and num <=18 and num !=11"
   ]
  },
  {
   "cell_type": "markdown",
   "metadata": {},
   "source": [
    "_Re-run the above cells multiple times to confirm that the logic holds for different random numbers!_"
   ]
  },
  {
   "cell_type": "markdown",
   "metadata": {},
   "source": [
    "Write a boolean expression that represents whether `5.1 - 2.5` is equal to `2.6`.\n",
    "- What does this tell you about the precision of _floating point_ (decimal) operations in Python? _Tip:_ try printing the value of `5.1-2.6`. (See also: https://en.wikipedia.org/wiki/Floating-point_arithmetic) \n",
    "- How might you ensure that this equality is correct?"
   ]
  },
  {
   "cell_type": "code",
   "execution_count": null,
   "metadata": {},
   "outputs": [],
   "source": [
    "print(round(5.1-2.5, 1)==2.6)\n",
    "#vs w/o rounding\n",
    "print((5.1-2.5)==2.6)\n",
    "print(5.1-2.6)"
   ]
  },
  {
   "cell_type": "markdown",
   "metadata": {},
   "source": [
    "Define a function `de_morgan()` that takes in two boolean values (`P` and `Q`) and _returns_ whether the [De Morgan laws](https://en.wikipedia.org/wiki/De_Morgan%27s_laws) hold for those two values. That is:\n",
    "> the negation of P **and** Q is the same as the negation of P **or** the negation of Q\n",
    "> <br>and\n",
    "> <br>the negation of P **or** Q is the same as the negation of P **and** the negation of Q\n",
    "\n",
    "Your function should return a boolean representing whether or not _both_ of these statements are true for the given `P` and `Q`. _Use parentheses to enforce order of operations!_"
   ]
  },
  {
   "cell_type": "code",
   "execution_count": null,
   "metadata": {},
   "outputs": [],
   "source": [
    "def de_morgan(p, q): \n",
    "    first_rule = (not (p and q)) == ((not p) or (not q))\n",
    "    second_rule = (not (p or q)) == ((not p) and (not q))\n",
    "    return (first_rule and second_rule)\n",
    "\n",
    "# print(de_morgan(True, True))"
   ]
  },
  {
   "cell_type": "markdown",
   "metadata": {},
   "source": [
    "Call your `de_morgan()` function for each possible value of `P` and `Q` (there are **4** possible combinations), printing the result, in order to demonstrate that these laws hold."
   ]
  },
  {
   "cell_type": "code",
   "execution_count": null,
   "metadata": {},
   "outputs": [],
   "source": [
    "print(de_morgan(True, True))\n",
    "print(de_morgan(True, False))\n",
    "print(de_morgan(False, True))\n",
    "print(de_morgan(False, False))"
   ]
  },
  {
   "cell_type": "markdown",
   "metadata": {},
   "source": [
    "Use the built-in [input()](https://docs.python.org/3/library/functions.html#input) function to prompt the user for their favorite word.\n",
    "- This function will wait for the user to provide an input before it finished executing, and will then _return_ a string of whatever the user typed in."
   ]
  },
  {
   "cell_type": "code",
   "execution_count": null,
   "metadata": {},
   "outputs": [],
   "source": [
    "fave_word = input(\"What is your favorite word? \")\n",
    "\n",
    "#print(fave_word)"
   ]
  },
  {
   "cell_type": "markdown",
   "metadata": {},
   "source": [
    "Write a boolean expression that represents if the inputted word has more than 8 letters."
   ]
  },
  {
   "cell_type": "code",
   "execution_count": null,
   "metadata": {},
   "outputs": [],
   "source": [
    "len(fave_word) > 8"
   ]
  },
  {
   "cell_type": "markdown",
   "metadata": {},
   "source": [
    "Use the `islower()` string method to check if the inputted word was entered with all lower-case letters."
   ]
  },
  {
   "cell_type": "code",
   "execution_count": null,
   "metadata": {},
   "outputs": [],
   "source": [
    "fave_word.islower()"
   ]
  },
  {
   "cell_type": "markdown",
   "metadata": {},
   "source": [
    "Write a boolean expression that represents whether or not the word _starts with_ the letter `i` or _ends with_ the letter `n`. Use appropriate string methods. _Hint_: convert the word to a specific case (upper or lower) for the comparison."
   ]
  },
  {
   "cell_type": "code",
   "execution_count": null,
   "metadata": {},
   "outputs": [],
   "source": [
    "lower_word = fave_word.lower()\n",
    "lower_word.startswith('i') or lower_word.endswith('n')"
   ]
  }
 ],
 "metadata": {
  "kernelspec": {
   "display_name": "Python 3",
   "language": "python",
   "name": "python3"
  },
  "language_info": {
   "codemirror_mode": {
    "name": "ipython",
    "version": 3
   },
   "file_extension": ".py",
   "mimetype": "text/x-python",
   "name": "python",
   "nbconvert_exporter": "python",
   "pygments_lexer": "ipython3",
   "version": "3.7.0"
  },
  "toc": {
   "colors": {
    "hover_highlight": "#DAA520",
    "running_highlight": "#FF0000",
    "selected_highlight": "#FFD700"
   },
   "moveMenuLeft": true,
   "nav_menu": {
    "height": "30px",
    "width": "252px"
   },
   "navigate_menu": true,
   "number_sections": true,
   "sideBar": true,
   "threshold": 4,
   "toc_cell": false,
   "toc_section_display": "block",
   "toc_window_display": false,
   "widenNotebook": false
  }
 },
 "nbformat": 4,
 "nbformat_minor": 2
}
